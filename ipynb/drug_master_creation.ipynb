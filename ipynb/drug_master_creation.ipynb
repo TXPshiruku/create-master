{
 "cells": [
  {
   "cell_type": "code",
   "execution_count": 1,
   "metadata": {},
   "outputs": [],
   "source": [
    "import numpy as np\n",
    "import pandas as pd\n",
    "import datetime as dt\n",
    "import functools\n",
    "import json\n",
    "import os\n",
    "import re\n",
    "\n",
    "import warnings\n",
    "warnings.filterwarnings('ignore')\n",
    "\n",
    "pd.set_option('display.max_columns', 400)\n",
    "pd.options.display.max_rows = 100"
   ]
  },
  {
   "cell_type": "code",
   "execution_count": 2,
   "metadata": {},
   "outputs": [],
   "source": [
    "# path\n",
    "DATA_PATH = \"../data/drug\"\n",
    "RESULT_PATH = \"../result/drug\"\n",
    "MASTER_PATH = \"../master/\""
   ]
  },
  {
   "cell_type": "code",
   "execution_count": 4,
   "metadata": {},
   "outputs": [],
   "source": [
    "# 厚労省の医薬品マスターをダウンロードして、以下のように保存してください。\n",
    "# ダウンロード先URL: https://shinryohoshu.mhlw.go.jp/shinryohoshu/downloadMenu/\n",
    "# 保存場所: ../data/drug/drug_master.csv\n",
    "# 元のファイル名: y_YYYYMMDD.csv\n",
    "\n",
    "# CSVファイルを読み込み\n",
    "drug_df = pd.read_csv(os.path.join(DATA_PATH, 'drug_df.csv'), encoding='cp932', dtype=str, header=None)"
   ]
  },
  {
   "cell_type": "code",
   "execution_count": 5,
   "metadata": {},
   "outputs": [],
   "source": [
    "# json定義\n",
    "with open(os.path.join(MASTER_PATH, \"drug_df_rename_master.json\"), encoding=\"utf-8\") as f:\n",
    "    \"\"\" 列名変換用マスタ\"\"\"\n",
    "    drug_df_rename_master_dict = json.load(f)\n",
    "with open(os.path.join(MASTER_PATH, \"therapeutic_code_master.json\"), encoding=\"utf-8\") as f:\n",
    "    \"\"\" 薬効分類マスタ\"\"\"\n",
    "    therapeutic_code_master_dict = json.load(f)\n",
    "with open(os.path.join(MASTER_PATH, \"atc_code_master.json\"), encoding=\"utf-8\") as f:\n",
    "    \"\"\" ATC分類マスタ\"\"\"\n",
    "    atc_code_master_dict = json.load(f)"
   ]
  },
  {
   "cell_type": "code",
   "execution_count": 14,
   "metadata": {},
   "outputs": [],
   "source": [
    "# ATCコード\n",
    "\"\"\"\n",
    "code_re = re.compile(r'^(?:D[0-9A-Z]+|[A-Z][0-9A-Z]*)(?=\\s|　|$)')\n",
    "\n",
    "def extract_code(name: str):\n",
    "    if not isinstance(name, str):\n",
    "        return None\n",
    "    m = code_re.match(name.strip())\n",
    "    return m.group(0) if m else None\n",
    "\n",
    "rows = []  \n",
    "\n",
    "def add_row(numeric_codes, d_code=\"\"):\n",
    "    pad = (numeric_codes + [\"\", \"\", \"\", \"\"])[:5]\n",
    "    rows.append(pad + [d_code])\n",
    "\n",
    "def walk(node, numeric_path):\n",
    "    name = node.get(\"name\", \"\")\n",
    "    code = extract_code(name)\n",
    "    if not code:\n",
    "        for ch in (node.get(\"children\") or []):\n",
    "            walk(ch, numeric_path)\n",
    "        return\n",
    "\n",
    "    if code.startswith(\"D\"):\n",
    "        add_row(numeric_path, d_code=code)\n",
    "        return\n",
    "\n",
    "    next_path = (numeric_path + [code])[:5]\n",
    "    add_row(next_path, d_code=\"\")\n",
    "\n",
    "    for ch in (node.get(\"children\") or []):\n",
    "        walk(ch, next_path)\n",
    "\n",
    "if isinstance(atc_code_master_dict, dict):\n",
    "    for child in (atc_code_master_dict.get(\"children\") or []):\n",
    "        walk(child, [])\n",
    "elif isinstance(atc_code_master_dict, list):\n",
    "    for node in atc_code_master_dict:\n",
    "        walk(node, [])\n",
    "else:\n",
    "    raise TypeError(\"Unsupported JSON root type\")\n",
    "\n",
    "seen = set()\n",
    "deduped = []\n",
    "for r in rows:\n",
    "    key = tuple(r)\n",
    "    if key not in seen:\n",
    "        seen.add(key)\n",
    "        deduped.append(r)\n",
    "\n",
    "atc_df = pd.DataFrame(deduped, columns=[\"atc_level1\", \"atc_level2\", \"atc_level3\", \"atc_level4\", \"atc_level5\", \"drug_code\"])\n",
    "\n",
    "# Excelに出力（DATA_PATH下に atc_code_master.xlsxとして保存）\n",
    "atc_df.to_excel(os.path.join(DATA_PATH, \"atc_code_master.xlsx\"), index=False)\n",
    "\"\"\"\n",
    "\n",
    "_ATC_CODE_RE = re.compile(r'^(?:[A-Z](?:\\d{2})?(?:[A-Z]{0,2})?(?:\\d{2})?|D\\d{5})$')\n",
    "_DRUG_CODE_RE = re.compile(r'^D\\d{5}$')  # 薬剤コード (例: D00202)\n",
    "\n",
    "def extract_code_and_label(name: str):\n",
    "    \"\"\"'A01AA01 ナイスタチン' -> ('A01AA01', 'A01AA01 ナイスタチン')\"\"\"\n",
    "    if not isinstance(name, str):\n",
    "        return None, None\n",
    "    s = name.strip().replace('\\xa0', ' ')\n",
    "    if not s:\n",
    "        return None, None\n",
    "    parts = re.split(r'[\\s\\u3000]+', s, maxsplit=1)  # 半角/全角スペースで分割\n",
    "    code = parts[0]\n",
    "    rest = parts[1] if len(parts) > 1 else \"\"\n",
    "    if not _ATC_CODE_RE.match(code):\n",
    "        return None, None\n",
    "    label = f\"{code} {rest}\".strip()\n",
    "    return code, label\n",
    "\n",
    "rows = []\n",
    "\n",
    "def add_row(level_labels):\n",
    "    # level1〜5 を「コード＋名称」で埋める（不足は空文字）\n",
    "    padded = (level_labels + [\"\", \"\", \"\", \"\"])[:5]\n",
    "    rows.append(padded)\n",
    "\n",
    "def walk(node, level_path):\n",
    "    name_raw = node.get(\"name\", \"\")\n",
    "    code, label = extract_code_and_label(name_raw)\n",
    "\n",
    "    if not code:\n",
    "        # コードが取れないノードは子へ\n",
    "        for ch in (node.get(\"children\") or []):\n",
    "            walk(ch, level_path)\n",
    "        return\n",
    "\n",
    "    # 薬剤コード（D+5桁）は出力せずスキップ\n",
    "    if _DRUG_CODE_RE.match(code):\n",
    "        return\n",
    "\n",
    "    # ATC階層ノード：パスに積んで1行出力\n",
    "    next_path = (level_path + [label])[:5]\n",
    "    add_row(next_path)\n",
    "\n",
    "    # 子ノードへ\n",
    "    for ch in (node.get(\"children\") or []):\n",
    "        walk(ch, next_path)\n",
    "\n",
    "# ルート走査\n",
    "if isinstance(atc_code_master_dict, dict):\n",
    "    for child in (atc_code_master_dict.get(\"children\") or []):\n",
    "        walk(child, [])\n",
    "elif isinstance(atc_code_master_dict, list):\n",
    "    for node in atc_code_master_dict:\n",
    "        walk(node, [])\n",
    "else:\n",
    "    raise TypeError(\"Unsupported JSON root type\")\n",
    "\n",
    "# 重複除去\n",
    "seen, deduped = set(), []\n",
    "for r in rows:\n",
    "    t = tuple(r)\n",
    "    if t not in seen:\n",
    "        seen.add(t)\n",
    "        deduped.append(r)\n",
    "\n",
    "# DataFrame（level1〜5のみ）\n",
    "atc_df = pd.DataFrame(deduped, columns=[\"atc_level1\",\"atc_level2\",\"atc_level3\",\"atc_level4\",\"atc_level5\"])\n",
    "\n",
    "# 例：保存\n",
    "atc_df.to_excel(os.path.join(DATA_PATH, \"atc_code_master1.xlsx\"), index=False)"
   ]
  },
  {
   "cell_type": "code",
   "execution_count": 120,
   "metadata": {},
   "outputs": [],
   "source": [
    "# 薬効分類コード\n",
    "code_re = re.compile(r'^([0-9]+|D[0-9A-Z]+)\\b')\n",
    "\n",
    "def extract_code(name: str):\n",
    "    if not isinstance(name, str):\n",
    "        return None\n",
    "    m = code_re.match(name.strip())\n",
    "    return m.group(1) if m else None\n",
    "\n",
    "rows = []  \n",
    "\n",
    "def add_row(numeric_codes, d_code=\"\"):\n",
    "    pad = (numeric_codes + [\"\", \"\", \"\", \"\"])[:4]\n",
    "    rows.append(pad + [d_code])\n",
    "\n",
    "def walk(node, numeric_path):\n",
    "    name = node.get(\"name\", \"\")\n",
    "    code = extract_code(name)\n",
    "    if not code:\n",
    "        for ch in (node.get(\"children\") or []):\n",
    "            walk(ch, numeric_path)\n",
    "        return\n",
    "\n",
    "    if code.startswith(\"D\"):\n",
    "        add_row(numeric_path, d_code=code)\n",
    "        return\n",
    "\n",
    "    next_path = (numeric_path + [code])[:4]\n",
    "    add_row(next_path, d_code=\"\")\n",
    "\n",
    "    for ch in (node.get(\"children\") or []):\n",
    "        walk(ch, next_path)\n",
    "\n",
    "if isinstance(therapeutic_code_master_dict, dict):\n",
    "    for child in (therapeutic_code_master_dict.get(\"children\") or []):\n",
    "        walk(child, [])\n",
    "elif isinstance(therapeutic_code_master_dict, list):\n",
    "    for node in therapeutic_code_master_dict:\n",
    "        walk(node, [])\n",
    "else:\n",
    "    raise TypeError(\"Unsupported JSON root type\")\n",
    "\n",
    "seen = set()\n",
    "deduped = []\n",
    "for r in rows:\n",
    "    key = tuple(r)\n",
    "    if key not in seen:\n",
    "        seen.add(key)\n",
    "        deduped.append(r)\n",
    "\n",
    "therapeutic_df = pd.DataFrame(deduped, columns=[\"therapeutic_level1\", \"therapeutic_level2\", \"therapeutic_level3\", \"therapeutic_level4\", \"drug_code\"])\n",
    "\n",
    "# Excelに出力（DATA_PATH下に therapeutic_code_master.xlsxとして保存）\n",
    "therapeutic_df.to_excel(os.path.join(DATA_PATH, \"therapeutic_code_master.xlsx\"), index=False)"
   ]
  },
  {
   "cell_type": "code",
   "execution_count": 124,
   "metadata": {},
   "outputs": [],
   "source": [
    "# ATC分類と薬効分類の対応表作成\n",
    "atc_df_filtered = atc_df[atc_df[\"drug_code\"].notna() & (atc_df[\"drug_code\"] != \"\")]\n",
    "therapeutic_df_filtered = therapeutic_df[therapeutic_df[\"drug_code\"].notna() & (therapeutic_df[\"drug_code\"] != \"\")]\n",
    "\n",
    "merged_df = pd.merge(\n",
    "    atc_df_filtered,\n",
    "    therapeutic_df_filtered,\n",
    "    on=\"drug_code\",\n",
    "    how=\"outer\"\n",
    ")\n",
    "\n",
    "# Excelに出力（DATA_PATH下に therapeutic_atc_master.xlsxとして保存）\n",
    "merged_df.to_excel(os.path.join(DATA_PATH, \"therapeutic_atc_master.xlsx\"), index=False)"
   ]
  },
  {
   "cell_type": "code",
   "execution_count": 107,
   "metadata": {},
   "outputs": [],
   "source": [
    "# 文字列から共通する部分だけを抽出\n",
    "def common_prefix(strings):\n",
    "    if not strings:\n",
    "        return \"\"\n",
    "    strings = [str(s).strip() for s in strings if pd.notna(s)]\n",
    "    if not strings:\n",
    "        return \"\"\n",
    "    # 先頭からの共通部分を取得\n",
    "    prefix = os.path.commonprefix(strings)\n",
    "    return prefix\n",
    "\n",
    "# 階層構造をたどってprefixに合致するnameを返す\n",
    "code_index = {}\n",
    "code_head_re = re.compile(r'^(\\d+)\\s*')\n",
    "\n",
    "def index_tree(node):\n",
    "    name = node.get(\"name\", \"\")\n",
    "    m = code_head_re.match(name)\n",
    "    if m:\n",
    "        code_index[m.group(1)] = name.split(None, 1)[-1] if ' ' in name else name\n",
    "    for child in node.get(\"children\", []) or []:\n",
    "        index_tree(child)\n",
    "\n",
    "if isinstance(therapeutic_code_master_dict, dict):\n",
    "    index_tree(therapeutic_code_master_dict)\n",
    "elif isinstance(therapeutic_code_master_dict, list):\n",
    "    for n in therapeutic_code_master_dict:\n",
    "        index_tree(n)\n",
    "def find_name_by_code_prefix(prefix: str):\n",
    "    return code_index.get(prefix)\n",
    "\n",
    "# 前処理\n",
    "def filter_columns(df: pd.DataFrame) -> pd.DataFrame:\n",
    "    # 列名変換\n",
    "    df.columns = df.columns.astype(str)\n",
    "    df = df.rename(columns=drug_df_rename_master_dict)\n",
    "    # generic_nameから\"【般】\"を削除\n",
    "    df[\"generic_name\"] = df[\"generic_name\"].str.replace(\"【般】\", \"\", regex=False)\n",
    "    # generic_name、product_nameの数字と英語を半角に変換\n",
    "    df[\"generic_name\"] = df[\"generic_name\"].str.normalize(\"NFKC\")\n",
    "    df[\"product_name\"] = df[\"product_name\"].str.normalize(\"NFKC\")\n",
    "    # nddb_codeの先頭から7文字を抽出して新しい列nddb_code_7を作成\n",
    "    df[\"nddb_code_7\"] = df[\"nddb_code\"].str[:7]\n",
    "    # nddb_code_7でグループ化して、generic_nameの共通する部分だけをを抽出して新しい列generic_base_nameを作成\n",
    "    df[\"generic_base_name\"] = df.groupby(\"nddb_code_7\")[\"generic_name\"].transform(\n",
    "        lambda x: common_prefix(x.tolist())\n",
    "    )\n",
    "    # generic_base_nameから複数の余分な文字列を一括削除（錠、mgなど）\n",
    "    remove_list = [\n",
    "        \"錠\", \"0.\", \"mg\", \"顆粒\", \"%\", \"点眼液\", \":\", \"坐剤\", \"テープ\", \n",
    "        \"カプセル\", \"点鼻液\", \"μg\", \"細粒\", \"配合\", \"徐放\", \"FF\",  \n",
    "        \"GL\", \".5mg\", \"点眼\", \"mL\", \"口腔内崩壊\", \"経口液\", \"含嗽用\", \"・B6()・B12\", \n",
    "        \"シロップ用\", \"クリーム\", \"トローチ\", \"原末\", \"外用液\", \"シロップ\", \n",
    "        \"点耳液\", \"50(制酸剤)\", \"経口ゼリー\", \"吸入粉末剤\", \"シリンジ\", \"吸入液\", \n",
    "        \"軟膏\", \"(鉄として)\", \"点耳\", \"g\", \"(35×50mm)\", \"2.\", \"口腔用\",\n",
    "        \"点鼻\", \"スプレー\", \"(温感)\", \"(1日6回)\", \"(非温感)\", \"・B2・B6・B\",\n",
    "        \"注腸剤\", \"含嗽剤\", \"舌下\", \"・B6(25)・B\", \"3.\", \"(制酸剤)\", \"等配合パップ\",\n",
    "        \"1000等消化酵素\", \"2000等消化酵素\"]\n",
    "    remove_list_sorted = sorted(remove_list, key=len, reverse=True)\n",
    "    pattern = \"|\".join(map(re.escape, remove_list_sorted))\n",
    "    df[\"generic_base_name\"] = df[\"generic_base_name\"].str.replace(pattern, \"\", regex=True)\n",
    "    # generic_base_nameが数字で終わっている場合、数字を削除\n",
    "    df[\"generic_base_name\"] = df[\"generic_base_name\"].str.replace(r\"\\d+$\", \"\", regex=True)\n",
    "    # generic_base_nameが\"散\"で終わっている場合、\"散\"を削除\n",
    "    df[\"generic_base_name\"] = df[\"generic_base_name\"].str.replace(r\"散$\", \"\", regex=True)\n",
    "    \n",
    "    col_names = {\n",
    "        1: \"therapeutic_code_level1\",\n",
    "        2: \"therapeutic_code_level2\",\n",
    "        3: \"therapeutic_code_level3\",\n",
    "        4: \"therapeutic_code_level4\"\n",
    "    }\n",
    "    # 薬効分類の各レベルを格納\n",
    "    for length, col_name in col_names.items():\n",
    "        df[col_name] = df[\"nddb_code_7\"].str[:length] \\\n",
    "            .apply(lambda x: find_name_by_code_prefix(x) or \"\")\n",
    "    # nddb_code_7の5-7文字目を抽出して新しい列dose_routeを作成（001-399: 内服薬, 400-699: 注射薬, 700-999: 外用薬）\n",
    "    codes = pd.to_numeric(df[\"nddb_code_7\"].str[4:7], errors=\"coerce\")\n",
    "    df[\"dose_route\"] = np.select(\n",
    "        [\n",
    "            (codes >= 1) & (codes <= 399),\n",
    "            (codes >= 400) & (codes <= 699),\n",
    "            (codes >= 700) & (codes <= 999),\n",
    "        ],\n",
    "        [\"内服薬\", \"注射薬\", \"外用薬\"],\n",
    "        default=np.nan,\n",
    "    )\n",
    "    # 必要な列を指定\n",
    "    columns = [\"generic_base_name\", \"generic_name\", \"product_name\", \"nddb_code_7\", \"nddb_code\", \"receipt_code\", \"therapeutic_code_level1\", \"therapeutic_code_level2\", \"therapeutic_code_level3\", \"therapeutic_code_level4\", \"dose_route\"]\n",
    "    df = df[columns]\n",
    "    return df"
   ]
  },
  {
   "cell_type": "code",
   "execution_count": 108,
   "metadata": {},
   "outputs": [],
   "source": [
    "drug_df = filter_columns(drug_df)"
   ]
  },
  {
   "cell_type": "code",
   "execution_count": 103,
   "metadata": {},
   "outputs": [
    {
     "data": {
      "application/vnd.microsoft.datawrangler.viewer.v0+json": {
       "columns": [
        {
         "name": "therapeutic_code_level4",
         "rawType": "object",
         "type": "string"
        },
        {
         "name": "count",
         "rawType": "int64",
         "type": "integer"
        }
       ],
       "ref": "7e1f49fe-f610-496e-bb0c-feb1dd1c94d7",
       "rows": [
        [
         "生薬",
         "1796"
        ],
        [
         "その他の精神神経用剤",
         "1091"
        ],
        [
         "その他の血圧降下剤",
         "1056"
        ],
        [
         "他に分類されないその他の代謝性医薬品",
         "686"
        ],
        [
         "その他のアレルギー用薬",
         "630"
        ],
        [
         "漢方製剤",
         "580"
        ],
        [
         "その他の中枢神経系用薬",
         "573"
        ],
        [
         "その他の抗悪性腫瘍用剤",
         "477"
        ],
        [
         "その他の眼科用剤",
         "466"
        ],
        [
         "冠血管拡張剤",
         "460"
        ],
        [
         "その他の高脂血症用剤",
         "385"
        ],
        [
         "その他の泌尿生殖器官及び肛門用薬",
         "321"
        ],
        [
         "その他の鎮痛、鎮痒、収斂、消炎剤",
         "313"
        ],
        [
         "その他の循環器官用薬",
         "312"
        ],
        [
         "その他の消化性潰瘍用剤",
         "268"
        ],
        [
         "他に分類されない血液・体液用薬",
         "257"
        ],
        [
         "その他の糖尿病用剤",
         "247"
        ],
        [
         "血漿分画製剤",
         "225"
        ],
        [
         "その他の解熱鎮痛消炎剤",
         "224"
        ],
        [
         "ベンゾジアゼピン系製剤",
         "219"
        ],
        [
         "他に分類されない消化器官用薬",
         "195"
        ],
        [
         "セフェム系抗生物質製剤",
         "189"
        ],
        [
         "抗ウイルス剤",
         "184"
        ],
        [
         "その他の血液代用剤",
         "183"
        ],
        [
         "その他の抗てんかん剤",
         "182"
        ],
        [
         "その他の抗パーキンソン剤",
         "180"
        ],
        [
         "副腎皮質ホルモン製剤",
         "173"
        ],
        [
         "アンジオテンシン変換酵素阻害剤",
         "170"
        ],
        [
         "腹膜透析用剤",
         "160"
        ],
        [
         "その他の催眠鎮静剤、抗不安剤",
         "153"
        ],
        [
         "Ｈ２遮断剤",
         "151"
        ],
        [
         "他に分類されないホルモン剤（抗ホルモン剤を含む）",
         "139"
        ],
        [
         "その他のＸ線造影剤",
         "129"
        ],
        [
         "その他の不整脈用剤",
         "124"
        ],
        [
         "アルコール製剤",
         "123"
        ],
        [
         "スルフォニル尿素系製剤",
         "122"
        ],
        [
         "その他の外皮用殺菌消毒剤",
         "115"
        ],
        [
         "キシリジン系製剤",
         "111"
        ],
        [
         "その他の解毒剤",
         "110"
        ],
        [
         "ピリドンカルボン酸系製剤",
         "109"
        ],
        [
         "生理食塩液類",
         "103"
        ],
        [
         "合成ビタミンＤ製剤",
         "102"
        ],
        [
         "その他の合成麻薬",
         "101"
        ],
        [
         "ブドウ糖製剤",
         "96"
        ],
        [
         "β−遮断剤",
         "92"
        ],
        [
         "その他の気管支拡張剤",
         "91"
        ],
        [
         "その他の痛風治療剤",
         "89"
        ],
        [
         "その他の化学療法剤",
         "85"
        ],
        [
         "石鹸類製剤",
         "84"
        ],
        [
         "その他の主としてグラム陽性・陰性菌に作用するもの",
         "83"
        ]
       ],
       "shape": {
        "columns": 1,
        "rows": 401
       }
      },
      "text/plain": [
       "therapeutic_code_level4\n",
       "生薬                    1796\n",
       "その他の精神神経用剤            1091\n",
       "その他の血圧降下剤             1056\n",
       "他に分類されないその他の代謝性医薬品     686\n",
       "その他のアレルギー用薬            630\n",
       "                      ... \n",
       "アクチノマイシンＤ製剤              1\n",
       "メルカプトプリン系製剤              1\n",
       "エチレンイミン系製剤               1\n",
       "コンドロイチン製剤                1\n",
       "ハロゲン炭化水素製剤；ハロタン等         1\n",
       "Name: count, Length: 401, dtype: int64"
      ]
     },
     "execution_count": 103,
     "metadata": {},
     "output_type": "execute_result"
    }
   ],
   "source": [
    "drug_df[\"therapeutic_code_level4\"].value_counts()"
   ]
  }
 ],
 "metadata": {
  "kernelspec": {
   "display_name": "base",
   "language": "python",
   "name": "python3"
  },
  "language_info": {
   "codemirror_mode": {
    "name": "ipython",
    "version": 3
   },
   "file_extension": ".py",
   "mimetype": "text/x-python",
   "name": "python",
   "nbconvert_exporter": "python",
   "pygments_lexer": "ipython3",
   "version": "3.12.7"
  }
 },
 "nbformat": 4,
 "nbformat_minor": 2
}
